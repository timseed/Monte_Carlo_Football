{
 "cells": [
  {
   "cell_type": "code",
   "execution_count": 18,
   "metadata": {
    "collapsed": false,
    "deletable": true,
    "editable": true
   },
   "outputs": [
    {
     "name": "stdout",
     "output_type": "stream",
     "text": [
      "Calculating chances for Middlesbrough\n",
      "After 150000 Iterations chance of reaching 37 points 11.24% \n",
      "Calculating chances for Sunderland\n",
      "After 150000 Iterations chance of reaching 37 points 45.17% \n"
     ]
    }
   ],
   "source": [
    "from montecarlo import montecarlo\n",
    "from random import random\n",
    "\n",
    "\n",
    "#This is the function to calculate the final points\n",
    "#Generally 37 points is the survival minimum\n",
    "\n",
    "def final_points(g):\n",
    "    '''\n",
    "    Pass a dictionary with the values needed for the simulation\n",
    "    '''\n",
    "    points=g['points']\n",
    "    for n in range(0,g['games']):\n",
    "        result=random()\n",
    "        if result <= g['winpct']:\n",
    "            points += 3\n",
    "        elif result <= g['drawpct']+g['winpct']:\n",
    "            points += 1\n",
    "    if points > 37:\n",
    "        return True\n",
    "    else:\n",
    "        return False\n",
    "\n",
    "#Setup the array for Middlebrough\n",
    "def setup_vals_boro():\n",
    "    return {'team':'Middlesbrough','points':25,'games':10,'winpct':0.15,'drawpct':0.4}\n",
    "\n",
    "#Setup the array for Sunderland\n",
    "def setup_vals_sund():\n",
    "    return {'team':'Sunderland','points':23,'games':10,'winpct':0.4,'drawpct':0.2}\n",
    "\n",
    "\n",
    "def output_result(success, iterations, final=False):\n",
    "    if final:\n",
    "        print(\"After {} Iterations chance of reaching 37 points {:3.2F}% \".format(iterations,montecarlo.probability(success, iterations)*100.0))\n",
    "        \n",
    "mc = montecarlo(final_points,setup=setup_vals_boro,output=output_result)\n",
    "print(\"Calculating chances for Middlesbrough\")\n",
    "mc.run(iterations=150000,output_every=50000)\n",
    "\n",
    "mc = montecarlo(final_points,setup=setup_vals_sund,output=output_result)\n",
    "print(\"Calculating chances for Sunderland\")\n",
    "mc.run(iterations=150000,output_every=50000)"
   ]
  },
  {
   "cell_type": "code",
   "execution_count": null,
   "metadata": {
    "collapsed": true
   },
   "outputs": [],
   "source": []
  }
 ],
 "metadata": {
  "kernelspec": {
   "display_name": "Python 3",
   "language": "python",
   "name": "python3"
  },
  "language_info": {
   "codemirror_mode": {
    "name": "ipython",
    "version": 3
   },
   "file_extension": ".py",
   "mimetype": "text/x-python",
   "name": "python",
   "nbconvert_exporter": "python",
   "pygments_lexer": "ipython3",
   "version": "3.6.0"
  }
 },
 "nbformat": 4,
 "nbformat_minor": 2
}
